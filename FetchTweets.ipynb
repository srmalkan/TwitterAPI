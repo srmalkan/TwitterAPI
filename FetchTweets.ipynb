{
 "cells": [
  {
   "cell_type": "code",
   "execution_count": 7,
   "metadata": {},
   "outputs": [],
   "source": [
    "ACCESS_TOKEN = '1094274318979219456-KeVn3kfiHAOg2KGUTflPq9tWhUi_BzJ'\n",
    "ACCESS_TOKEN_SECRET = 'zWjkXTu7rP0jfaUFnqmNTFA0EVG2I99pe_3dDhIU3c7goM'\n",
    "CONSUMER_KEY = 'xIsAoCgKTDgR8j04_dhwXsgdRf'\n",
    "CONSUMER_SECRET = 'btiCEppjwNM8fhaf984NiFk1S6NveDgd_5bU8IvMjW2Rl444GMa'"
   ]
  },
  {
   "cell_type": "code",
   "execution_count": 22,
   "metadata": {},
   "outputs": [],
   "source": [
    "from tweepy import API\n",
    "from tweepy import Cursor\n",
    "from tweepy.streaming import StreamListener\n",
    "from tweepy import OAuthHandler\n",
    "from tweepy import Stream"
   ]
  },
  {
   "cell_type": "code",
   "execution_count": 35,
   "metadata": {},
   "outputs": [],
   "source": [
    "#usermethods\n",
    "#retweets_of_me\n",
    "#mentions_timeline\n",
    "#followers\n",
    "#followers_ids\n",
    "class TwitterClient():\n",
    "    def __init__(self):\n",
    "        self.auth = TwitterAuthenticator().authenticate()\n",
    "        self.twitterClient = API(self.auth)\n",
    "        \n",
    "    def getUserTimelineTweets(self,nTweets,user=None):\n",
    "        tweets = []\n",
    "        for tweet in Cursor(self.twitterClient.user_timeline,id = user).items(nTweets):\n",
    "            tweets.append(tweet)\n",
    "        return tweets\n",
    "    \n",
    "    def getFriendList(self,nFreinds,user=None):\n",
    "        friendList = []\n",
    "        for friend in Cursor(self.twitterClient.friends,id=user).items(nfriends):\n",
    "            friendList.append(friend)\n",
    "        return friendList\n",
    "    \n",
    "    def getHomeTimelineTweets(self,nTweets,user=None):\n",
    "        tweets = []\n",
    "        for tweet in Cursor(self.twitterClient.home_timeline,id = user).items(nTweets):\n",
    "            tweets.append(tweet)\n",
    "        return tweets\n",
    "    "
   ]
  },
  {
   "cell_type": "code",
   "execution_count": 15,
   "metadata": {},
   "outputs": [],
   "source": [
    "class TwitterAuthenticator():\n",
    "    def authenticate(self):\n",
    "        auth = OAuthHandler(CONSUMER_KEY,CONSUMER_SECRET)\n",
    "        auth.set_access_token(ACCESS_TOKEN,ACCESS_TOKEN_SECRET)\n",
    "        return auth"
   ]
  },
  {
   "cell_type": "code",
   "execution_count": 16,
   "metadata": {},
   "outputs": [],
   "source": [
    "class TwitterStreamer():\n",
    "    \n",
    "    def __init__(self):\n",
    "        self.twitterAuth = TwitterAuthenticator()\n",
    "        \n",
    "    \n",
    "    def stream_tweets(self, fileName, keywordList):\n",
    "        listener = StdOutListener(fileName)\n",
    "        auth = self.twitterAuth.authenticate()\n",
    "        stream = Stream(auth,listener)\n",
    "\n",
    "        stream.filter(track=keywordList)"
   ]
  },
  {
   "cell_type": "code",
   "execution_count": 17,
   "metadata": {},
   "outputs": [],
   "source": [
    "class StdOutListener(StreamListener):\n",
    "    \n",
    "    def __init__(self, fileName):\n",
    "        self.fileName = fileName;\n",
    "        \n",
    "    def on_data(self,data):\n",
    "        try:\n",
    "            print(data)\n",
    "            with open(self.fileName, 'a') as tf:\n",
    "                tf.write(data)\n",
    "            return True\n",
    "        except BaseException as e:\n",
    "            print (\"Error on_data {}\".format(str(e)))\n",
    "        return True\n",
    "    \n",
    "    def on_error(self,status):\n",
    "        if status==420:\n",
    "            return False\n",
    "        print(status)"
   ]
  },
  {
   "cell_type": "code",
   "execution_count": null,
   "metadata": {},
   "outputs": [],
   "source": [
    "import pandas as pd\n",
    "import numpy as np\n",
    "class TweetAnalyzer():\n",
    "    \n",
    "    def tweetToDF(self, tweets, label):\n",
    "        df = pd.DataFrame[data = [tweet.text for tweet in tweets], columns=['Tweets']]\n",
    "        df['label'] = np.array([label for tweet in tweets])\n",
    "        return d\\\n",
    "        "
   ]
  },
  {
   "cell_type": "code",
   "execution_count": 40,
   "metadata": {},
   "outputs": [],
   "source": [
    "keywordList = ['fashion india']\n",
    "fileName = \"Tweets.json\"\n",
    "\n",
    "twitterStreamer = TwitterStreamer()\n",
    "twitterStreamer.stream_tweets(fileName,keywordList)"
   ]
  },
  {
   "cell_type": "code",
   "execution_count": 41,
   "metadata": {},
   "outputs": [],
   "source": [
    "twitterClient = TwitterClient()\n",
    "print(twitterClient.getUserTimelineTweets(1,'kunalkamra88'))"
   ]
  },
  {
   "cell_type": "code",
   "execution_count": null,
   "metadata": {},
   "outputs": [],
   "source": [
    "twitterAnalyzer = TweetAnalyzer()\n",
    "df = tweetToDF(tweets)"
   ]
  }
 ],
 "metadata": {
  "kernelspec": {
   "display_name": "Python 3",
   "language": "python",
   "name": "python3"
  },
  "language_info": {
   "codemirror_mode": {
    "name": "ipython",
    "version": 3
   },
   "file_extension": ".py",
   "mimetype": "text/x-python",
   "name": "python",
   "nbconvert_exporter": "python",
   "pygments_lexer": "ipython3",
   "version": "3.6.9"
  }
 },
 "nbformat": 4,
 "nbformat_minor": 2
}
